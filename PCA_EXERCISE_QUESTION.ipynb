{
  "nbformat": 4,
  "nbformat_minor": 0,
  "metadata": {
    "colab": {
      "provenance": [],
      "authorship_tag": "ABX9TyNyjcQ5XtLUygylLExKxuvU",
      "include_colab_link": true
    },
    "kernelspec": {
      "name": "python3",
      "display_name": "Python 3"
    },
    "language_info": {
      "name": "python"
    }
  },
  "cells": [
    {
      "cell_type": "markdown",
      "metadata": {
        "id": "view-in-github",
        "colab_type": "text"
      },
      "source": [
        "<a href=\"https://colab.research.google.com/github/varsha595/ml-lab-/blob/main/PCA_EXERCISE_QUESTION.ipynb\" target=\"_parent\"><img src=\"https://colab.research.google.com/assets/colab-badge.svg\" alt=\"Open In Colab\"/></a>"
      ]
    },
    {
      "cell_type": "code",
      "execution_count": 2,
      "metadata": {
        "colab": {
          "base_uri": "https://localhost:8080/"
        },
        "id": "yY3R23Suaebi",
        "outputId": "bc92bb3d-7f8c-403b-b398-794e341589bf"
      },
      "outputs": [
        {
          "output_type": "stream",
          "name": "stdout",
          "text": [
            "Principal Component Variable: Arts\n"
          ]
        }
      ],
      "source": [
        "#VARSHA KARTHIKEYAN\n",
        "#CSE A\n",
        "#CH.SC.U4CSE23059\n",
        "import pandas as pd\n",
        "\n",
        "data = {\n",
        "    'Variable': ['Climate', 'Housing', 'Health', 'Crime', 'Transportation', 'Education', 'Arts', 'Recreation', 'Economy'],\n",
        "    '1': [0.190, 0.544, 0.782, 0.365, 0.585, 0.394, 0.985, 0.520, 0.142],\n",
        "    '2': [0.017, 0.020, -0.605, 0.294, 0.085, -0.273, 0.126, 0.402, 0.150],\n",
        "    '3': [0.207, 0.204, 0.144, 0.585, 0.234, 0.027, -0.111, 0.519, 0.239]\n",
        "}\n",
        "\n",
        "df = pd.DataFrame(data)\n",
        "df['abs_PC1'] = df['1'].abs()\n",
        "principal_component_variable = df.loc[df['abs_PC1'].idxmax(), 'Variable']\n",
        "print(\"Principal Component Variable:\", principal_component_variable)\n",
        "df.to_csv(\"principal_component_data.csv\", index=False)\n"
      ]
    }
  ]
}